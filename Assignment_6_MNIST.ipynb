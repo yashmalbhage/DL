{
 "cells": [
  {
   "cell_type": "code",
   "execution_count": 1,
   "id": "411811a0",
   "metadata": {},
   "outputs": [],
   "source": [
    "from tensorflow.keras.preprocessing.image import ImageDataGenerator"
   ]
  },
  {
   "cell_type": "code",
   "execution_count": 2,
   "id": "14bf3b1b",
   "metadata": {},
   "outputs": [],
   "source": [
    "train_dir = 'dataset/mnist-jpg/mnist-jpg/train/'\n",
    "test_dir = 'dataset/mnist-jpg/mnist-jpg/test/'"
   ]
  },
  {
   "cell_type": "code",
   "execution_count": 13,
   "id": "d33b58a3",
   "metadata": {},
   "outputs": [
    {
     "name": "stdout",
     "output_type": "stream",
     "text": [
      "Found 60000 images belonging to 10 classes.\n",
      "Found 60000 images belonging to 10 classes.\n"
     ]
    }
   ],
   "source": [
    "img_gen = ImageDataGenerator(rescale=1.0/255)\n",
    "\n",
    "data_gen = img_gen.flow_from_directory(\n",
    "    train_dir,\n",
    "    target_size=(32,32),\n",
    "    batch_size=5000,\n",
    "    shuffle=True,\n",
    "    class_mode='categorical'\n",
    ")"
   ]
  },
  {
   "cell_type": "code",
   "execution_count": 14,
   "id": "b3b245ce",
   "metadata": {},
   "outputs": [],
   "source": [
    "x_train, y_train = data_gen[0]\n",
    "x_test, y_test = data_gen[2]"
   ]
  },
  {
   "cell_type": "code",
   "execution_count": 15,
   "id": "89119210",
   "metadata": {},
   "outputs": [],
   "source": [
    "from tensorflow.keras.applications import VGG16\n",
    "path = 'dataset/vgg16_weights_tf_dim_ordering_tf_kernels_notop.h5'\n",
    "\n",
    "vgg_model = VGG16(weights=path,include_top=False, input_shape=(32,32,3))"
   ]
  },
  {
   "cell_type": "code",
   "execution_count": 16,
   "id": "fb7b9590",
   "metadata": {},
   "outputs": [],
   "source": [
    "for layer in vgg_model.layers:\n",
    "    layer.trainabler=False"
   ]
  },
  {
   "cell_type": "code",
   "execution_count": 17,
   "id": "0a2451d2",
   "metadata": {},
   "outputs": [],
   "source": [
    "from tensorflow import keras\n",
    "from tensorflow.keras.layers import Dense, Flatten, Dropout"
   ]
  },
  {
   "cell_type": "code",
   "execution_count": 22,
   "id": "afea210b",
   "metadata": {},
   "outputs": [],
   "source": [
    "custom_classifier = keras.Sequential([\n",
    "    Flatten(input_shape=(1,1,512)),\n",
    "    Dense(100, activation='relu'),\n",
    "    Dropout(0.2),\n",
    "    Dense(100, activation='relu'),\n",
    "    Dropout(0.2),\n",
    "    Dense(10, activation='softmax')\n",
    "    \n",
    "])\n",
    "\n",
    "model = keras.Sequential([\n",
    "    vgg_model,\n",
    "    custom_classifier\n",
    "])"
   ]
  },
  {
   "cell_type": "code",
   "execution_count": 23,
   "id": "c81b2320",
   "metadata": {},
   "outputs": [],
   "source": [
    "model.compile(optimizer='adam', loss='categorical_crossentropy', metrics=['accuracy'])"
   ]
  },
  {
   "cell_type": "code",
   "execution_count": 25,
   "id": "f44e8cb4",
   "metadata": {},
   "outputs": [
    {
     "name": "stdout",
     "output_type": "stream",
     "text": [
      "50/50 [==============================] - 204s 4s/step - loss: 1.6244 - accuracy: 0.3820 - val_loss: 1.2011 - val_accuracy: 0.5770\n"
     ]
    },
    {
     "data": {
      "text/plain": [
       "<keras.src.callbacks.History at 0x22c7ef89c60>"
      ]
     },
     "execution_count": 25,
     "metadata": {},
     "output_type": "execute_result"
    }
   ],
   "source": [
    "model.fit(x_train, y_train, batch_size=100, epochs=1, validation_data=(x_test,y_test))"
   ]
  },
  {
   "cell_type": "code",
   "execution_count": 26,
   "id": "a0526931",
   "metadata": {},
   "outputs": [
    {
     "name": "stdout",
     "output_type": "stream",
     "text": [
      "5/5 [==============================] - 208s 42s/step - loss: 2.5760 - accuracy: 0.3306 - val_loss: 2.1499 - val_accuracy: 0.2630\n"
     ]
    },
    {
     "data": {
      "text/plain": [
       "<keras.src.callbacks.History at 0x22c7822e950>"
      ]
     },
     "execution_count": 26,
     "metadata": {},
     "output_type": "execute_result"
    }
   ],
   "source": [
    "for layer in vgg_model.layers[:-4]:\n",
    "    layer.trainable = True\n",
    "    \n",
    "model.compile(optimizer='adam', loss='categorical_crossentropy', metrics=['accuracy'])\n",
    "model.fit(x_train, y_train, batch_size=1000, epochs=1, validation_data=(x_test,y_test))"
   ]
  },
  {
   "cell_type": "code",
   "execution_count": 27,
   "id": "bda6243a",
   "metadata": {},
   "outputs": [
    {
     "name": "stdout",
     "output_type": "stream",
     "text": [
      "32/32 [==============================] - 4s 120ms/step - loss: 2.1499 - accuracy: 0.2630\n",
      "2.1498725414276123   0.2630000114440918\n"
     ]
    }
   ],
   "source": [
    "loss, acc = model.evaluate(x_test, y_test)\n",
    "print(loss, \" \", acc)"
   ]
  },
  {
   "cell_type": "code",
   "execution_count": 28,
   "id": "2989196f",
   "metadata": {},
   "outputs": [
    {
     "name": "stdout",
     "output_type": "stream",
     "text": [
      "32/32 [==============================] - 4s 115ms/step\n"
     ]
    }
   ],
   "source": [
    "pred = model.predict(x_test)"
   ]
  },
  {
   "cell_type": "code",
   "execution_count": 29,
   "id": "3e295e1c",
   "metadata": {},
   "outputs": [],
   "source": [
    "labels = list(data_gen.class_indices.keys())"
   ]
  },
  {
   "cell_type": "code",
   "execution_count": 32,
   "id": "62da4010",
   "metadata": {},
   "outputs": [
    {
     "name": "stdout",
     "output_type": "stream",
     "text": [
      "0\n"
     ]
    },
    {
     "data": {
      "image/png": "[encoded data removed]",
      "text/plain": [
       "<Figure size 640x480 with 1 Axes>"
      ]
     },
     "metadata": {},
     "output_type": "display_data"
    }
   ],
   "source": [
    "import matplotlib.pyplot as plt\n",
    "import numpy as np\n",
    "plt.imshow(x_test[10])\n",
    "plt.title(str(labels[np.argmax(pred[10])]))\n",
    "print(str(labels[np.argmax(y_test[10])]))"
   ]
  },
  {
   "cell_type": "code",
   "execution_count": 33,
   "id": "326a7a0a",
   "metadata": {},
   "outputs": [
    {
     "data": {
      "text/plain": [
       "array([1., 0., 0., 0., 0., 0., 0., 0., 0., 0.], dtype=float32)"
      ]
     },
     "execution_count": 33,
     "metadata": {},
     "output_type": "execute_result"
    }
   ],
   "source": [
    "y_test[10]"
   ]
  },
  {
   "cell_type": "markdown",
   "metadata": {},
   "source": [
    "### Note: Train the model for large epochs to get better accuracy"
   ]
  }
 ],
 "metadata": {
  "kernelspec": {
   "display_name": "lab_env",
   "language": "python",
   "name": "lab_env"
  },
  "language_info": {
   "codemirror_mode": {
    "name": "ipython",
    "version": 3
   },
   "file_extension": ".py",
   "mimetype": "text/x-python",
   "name": "python",
   "nbconvert_exporter": "python",
   "pygments_lexer": "ipython3",
   "version": "3.10.8"
  }
 },
 "nbformat": 4,
 "nbformat_minor": 5
}
