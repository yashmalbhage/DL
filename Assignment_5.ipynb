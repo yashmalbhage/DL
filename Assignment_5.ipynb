{
 "cells": [
  {
   "cell_type": "markdown",
   "metadata": {},
   "source": [
    "## Implement the Continuous Bag of Words (CBOW) Model. Stages can be:\n",
    "a. Data preparation<br>\n",
    "b. Generate training data<br>\n",
    "c. Train model<br>\n",
    "d. Output<br>"
   ]
  },
  {
   "cell_type": "code",
   "execution_count": 1,
   "id": "ab98d718",
   "metadata": {},
   "outputs": [],
   "source": [
    "import numpy as np\n",
    "import re"
   ]
  },
  {
   "cell_type": "code",
   "execution_count": 2,
   "id": "9201f9ac",
   "metadata": {},
   "outputs": [
    {
     "data": {
      "text/plain": [
       "'Deep learning (also known as deep structured learning) is part of a broader family of machine learning methods based on artificial neural networks with representation learning. Learning can be supervised, semi-supervised or unsupervised. Deep-learning architectures such as deep neural networks, deep belief networks, deep reinforcement learning, recurrent neural networks, convolutional neural networks and Transformers have been applied to fields including computer vision, speech recognition, natural language processing, machine translation, bioinformatics, drug design, medical image analysis, climate science, material inspection and board game programs, where they have produced results comparable to and in some cases surpassing human expert performance.'"
      ]
     },
     "execution_count": 2,
     "metadata": {},
     "output_type": "execute_result"
    }
   ],
   "source": [
    "data = \"\"\"Deep learning (also known as deep structured learning) is part of a broader family of machine learning methods based on artificial neural networks with representation learning. Learning can be supervised, semi-supervised or unsupervised. Deep-learning architectures such as deep neural networks, deep belief networks, deep reinforcement learning, recurrent neural networks, convolutional neural networks and Transformers have been applied to fields including computer vision, speech recognition, natural language processing, machine translation, bioinformatics, drug design, medical image analysis, climate science, material inspection and board game programs, where they have produced results comparable to and in some cases surpassing human expert performance.\"\"\"\n",
    "data"
   ]
  },
  {
   "cell_type": "code",
   "execution_count": 3,
   "id": "c806d4d7",
   "metadata": {},
   "outputs": [
    {
     "data": {
      "text/plain": [
       "['Deep learning (also known as deep structured learning) is part of a broader family of machine learning methods based on artificial neural networks with representation learning',\n",
       " ' Learning can be supervised, semi-supervised or unsupervised',\n",
       " ' Deep-learning architectures such as deep neural networks, deep belief networks, deep reinforcement learning, recurrent neural networks, convolutional neural networks and Transformers have been applied to fields including computer vision, speech recognition, natural language processing, machine translation, bioinformatics, drug design, medical image analysis, climate science, material inspection and board game programs, where they have produced results comparable to and in some cases surpassing human expert performance',\n",
       " '']"
      ]
     },
     "execution_count": 3,
     "metadata": {},
     "output_type": "execute_result"
    }
   ],
   "source": [
    "sentences = data.split('.')\n",
    "sentences"
   ]
  },
  {
   "cell_type": "code",
   "execution_count": 4,
   "id": "5713d148",
   "metadata": {},
   "outputs": [
    {
     "data": {
      "text/plain": [
       "['deep learning also known as deep structured learning is part of a broader family of machine learning methods based on artificial neural networks with representation learning',\n",
       " 'learning can be supervised semi supervised or unsupervised',\n",
       " 'deep learning architectures such as deep neural networks deep belief networks deep reinforcement learning recurrent neural networks convolutional neural networks and transformers have been applied to fields including computer vision speech recognition natural language processing machine translation bioinformatics drug design medical image analysis climate science material inspection and board game programs where they have produced results comparable to and in some cases surpassing human expert performance']"
      ]
     },
     "execution_count": 4,
     "metadata": {},
     "output_type": "execute_result"
    }
   ],
   "source": [
    "clean_sent=[]\n",
    "for sentence in sentences:\n",
    "    if sentence==\"\":\n",
    "        continue\n",
    "    sentence = re.sub('[^A-Za-z0-9]+', ' ', (sentence))\n",
    "    sentence = re.sub(r'(?:^| )\\w (?:$| )', ' ', (sentence)).strip()\n",
    "    sentence = sentence.lower()\n",
    "    clean_sent.append(sentence)\n",
    "\n",
    "clean_sent"
   ]
  },
  {
   "cell_type": "code",
   "execution_count": 5,
   "id": "a48d4eba",
   "metadata": {},
   "outputs": [],
   "source": [
    "from tensorflow.keras.preprocessing.text import Tokenizer"
   ]
  },
  {
   "cell_type": "code",
   "execution_count": 6,
   "id": "a3174c77",
   "metadata": {},
   "outputs": [
    {
     "name": "stdout",
     "output_type": "stream",
     "text": [
      "[[2, 1, 12, 13, 6, 2, 14, 1, 15, 16, 7, 17, 18, 19, 7, 8, 1, 20, 21, 22, 23, 4, 3, 24, 25, 1], [1, 26, 27, 9, 28, 9, 29, 30], [2, 1, 31, 32, 6, 2, 4, 3, 2, 33, 3, 2, 34, 1, 35, 4, 3, 36, 4, 3, 5, 37, 10, 38, 39, 11, 40, 41, 42, 43, 44, 45, 46, 47, 48, 8, 49, 50, 51, 52, 53, 54, 55, 56, 57, 58, 59, 5, 60, 61, 62, 63, 64, 10, 65, 66, 67, 11, 5, 68, 69, 70, 71, 72, 73, 74]]\n"
     ]
    }
   ],
   "source": [
    "tokenizer = Tokenizer()\n",
    "tokenizer.fit_on_texts(clean_sent)\n",
    "sequences = tokenizer.texts_to_sequences(clean_sent)\n",
    "print(sequences)"
   ]
  },
  {
   "cell_type": "code",
   "execution_count": 7,
   "id": "5fa22792",
   "metadata": {},
   "outputs": [
    {
     "name": "stdout",
     "output_type": "stream",
     "text": [
      "{2: 'deep', 1: 'learning', 12: 'also', 13: 'known', 6: 'as', 14: 'structured', 15: 'is', 16: 'part', 7: 'of', 17: 'a', 18: 'broader', 19: 'family', 8: 'machine', 20: 'methods', 21: 'based', 22: 'on', 23: 'artificial', 4: 'neural', 3: 'networks', 24: 'with', 25: 'representation', 26: 'can', 27: 'be', 9: 'supervised', 28: 'semi', 29: 'or', 30: 'unsupervised', 31: 'architectures', 32: 'such', 33: 'belief', 34: 'reinforcement', 35: 'recurrent', 36: 'convolutional', 5: 'and', 37: 'transformers', 10: 'have', 38: 'been', 39: 'applied', 11: 'to', 40: 'fields', 41: 'including', 42: 'computer', 43: 'vision', 44: 'speech', 45: 'recognition', 46: 'natural', 47: 'language', 48: 'processing', 49: 'translation', 50: 'bioinformatics', 51: 'drug', 52: 'design', 53: 'medical', 54: 'image', 55: 'analysis', 56: 'climate', 57: 'science', 58: 'material', 59: 'inspection', 60: 'board', 61: 'game', 62: 'programs', 63: 'where', 64: 'they', 65: 'produced', 66: 'results', 67: 'comparable', 68: 'in', 69: 'some', 70: 'cases', 71: 'surpassing', 72: 'human', 73: 'expert', 74: 'performance'} \n",
      "\n",
      "{'deep': 2, 'learning': 1, 'also': 12, 'known': 13, 'as': 6, 'structured': 14, 'is': 15, 'part': 16, 'of': 7, 'a': 17, 'broader': 18, 'family': 19, 'machine': 8, 'methods': 20, 'based': 21, 'on': 22, 'artificial': 23, 'neural': 4, 'networks': 3, 'with': 24, 'representation': 25, 'can': 26, 'be': 27, 'supervised': 9, 'semi': 28, 'or': 29, 'unsupervised': 30, 'architectures': 31, 'such': 32, 'belief': 33, 'reinforcement': 34, 'recurrent': 35, 'convolutional': 36, 'and': 5, 'transformers': 37, 'have': 10, 'been': 38, 'applied': 39, 'to': 11, 'fields': 40, 'including': 41, 'computer': 42, 'vision': 43, 'speech': 44, 'recognition': 45, 'natural': 46, 'language': 47, 'processing': 48, 'translation': 49, 'bioinformatics': 50, 'drug': 51, 'design': 52, 'medical': 53, 'image': 54, 'analysis': 55, 'climate': 56, 'science': 57, 'material': 58, 'inspection': 59, 'board': 60, 'game': 61, 'programs': 62, 'where': 63, 'they': 64, 'produced': 65, 'results': 66, 'comparable': 67, 'in': 68, 'some': 69, 'cases': 70, 'surpassing': 71, 'human': 72, 'expert': 73, 'performance': 74}\n"
     ]
    }
   ],
   "source": [
    "index_to_word = {}\n",
    "word_to_index = {}\n",
    "\n",
    "for i, sequence in enumerate(sequences):\n",
    "#     print(sequence)\n",
    "    word_in_sentence = clean_sent[i].split()\n",
    "#     print(word_in_sentence)\n",
    "    \n",
    "    for j, value in enumerate(sequence):\n",
    "        index_to_word[value] = word_in_sentence[j]\n",
    "        word_to_index[word_in_sentence[j]] = value\n",
    "\n",
    "print(index_to_word, \"\\n\")\n",
    "print(word_to_index)"
   ]
  },
  {
   "cell_type": "code",
   "execution_count": 8,
   "id": "15d7a6db",
   "metadata": {},
   "outputs": [
    {
     "name": "stdout",
     "output_type": "stream",
     "text": [
      "[[2, 1, 13, 6], [1, 12, 6, 2], [12, 13, 2, 14], [13, 6, 14, 1], [6, 2, 1, 15], [2, 14, 15, 16], [14, 1, 16, 7], [1, 15, 7, 17], [15, 16, 17, 18], [16, 7, 18, 19], [7, 17, 19, 7], [17, 18, 7, 8], [18, 19, 8, 1], [19, 7, 1, 20], [7, 8, 20, 21], [8, 1, 21, 22], [1, 20, 22, 23], [20, 21, 23, 4], [21, 22, 4, 3], [22, 23, 3, 24], [23, 4, 24, 25], [4, 3, 25, 1], [1, 26, 9, 28], [26, 27, 28, 9], [27, 9, 9, 29], [9, 28, 29, 30], [2, 1, 32, 6], [1, 31, 6, 2], [31, 32, 2, 4], [32, 6, 4, 3], [6, 2, 3, 2], [2, 4, 2, 33], [4, 3, 33, 3], [3, 2, 3, 2], [2, 33, 2, 34], [33, 3, 34, 1], [3, 2, 1, 35], [2, 34, 35, 4], [34, 1, 4, 3], [1, 35, 3, 36], [35, 4, 36, 4], [4, 3, 4, 3], [3, 36, 3, 5], [36, 4, 5, 37], [4, 3, 37, 10], [3, 5, 10, 38], [5, 37, 38, 39], [37, 10, 39, 11], [10, 38, 11, 40], [38, 39, 40, 41], [39, 11, 41, 42], [11, 40, 42, 43], [40, 41, 43, 44], [41, 42, 44, 45], [42, 43, 45, 46], [43, 44, 46, 47], [44, 45, 47, 48], [45, 46, 48, 8], [46, 47, 8, 49], [47, 48, 49, 50], [48, 8, 50, 51], [8, 49, 51, 52], [49, 50, 52, 53], [50, 51, 53, 54], [51, 52, 54, 55], [52, 53, 55, 56], [53, 54, 56, 57], [54, 55, 57, 58], [55, 56, 58, 59], [56, 57, 59, 5], [57, 58, 5, 60], [58, 59, 60, 61], [59, 5, 61, 62], [5, 60, 62, 63], [60, 61, 63, 64], [61, 62, 64, 10], [62, 63, 10, 65], [63, 64, 65, 66], [64, 10, 66, 67], [10, 65, 67, 11], [65, 66, 11, 5], [66, 67, 5, 68], [67, 11, 68, 69], [11, 5, 69, 70], [5, 68, 70, 71], [68, 69, 71, 72], [69, 70, 72, 73], [70, 71, 73, 74]] \n",
      "\n",
      "[12, 13, 6, 2, 14, 1, 15, 16, 7, 17, 18, 19, 7, 8, 1, 20, 21, 22, 23, 4, 3, 24, 27, 9, 28, 9, 31, 32, 6, 2, 4, 3, 2, 33, 3, 2, 34, 1, 35, 4, 3, 36, 4, 3, 5, 37, 10, 38, 39, 11, 40, 41, 42, 43, 44, 45, 46, 47, 48, 8, 49, 50, 51, 52, 53, 54, 55, 56, 57, 58, 59, 5, 60, 61, 62, 63, 64, 10, 65, 66, 67, 11, 5, 68, 69, 70, 71, 72]\n"
     ]
    }
   ],
   "source": [
    "vocab_size = len(tokenizer.word_index) + 1\n",
    "emb_size = 10\n",
    "context_size = 2\n",
    "\n",
    "contexts = []\n",
    "targets = []\n",
    "\n",
    "for sequence in sequences:\n",
    "    for i in range(context_size, len(sequence) - context_size):\n",
    "        target = sequence[i]\n",
    "        context = [sequence[i - 2], sequence[i - 1], sequence[i + 1], sequence[i + 2]]\n",
    "#         print(context)\n",
    "        contexts.append(context)\n",
    "        targets.append(target)\n",
    "print(contexts, \"\\n\")\n",
    "print(targets)"
   ]
  },
  {
   "cell_type": "code",
   "execution_count": 9,
   "id": "1d3a2c03",
   "metadata": {},
   "outputs": [
    {
     "name": "stdout",
     "output_type": "stream",
     "text": [
      "['deep', 'learning', 'known', 'as']  ->  also\n",
      "['learning', 'also', 'as', 'deep']  ->  known\n",
      "['also', 'known', 'deep', 'structured']  ->  as\n",
      "['known', 'as', 'structured', 'learning']  ->  deep\n",
      "['as', 'deep', 'learning', 'is']  ->  structured\n"
     ]
    }
   ],
   "source": [
    "#printing features with target\n",
    "for i in range(5):\n",
    "    words = []\n",
    "    target = index_to_word.get(targets[i])\n",
    "    for j in contexts[i]:\n",
    "        words.append(index_to_word.get(j))\n",
    "    print(words,\" -> \", target)"
   ]
  },
  {
   "cell_type": "code",
   "execution_count": 10,
   "id": "52d258cb",
   "metadata": {},
   "outputs": [],
   "source": [
    "# Convert the contexts and targets to numpy arrays\n",
    "X = np.array(contexts)\n",
    "Y = np.array(targets)"
   ]
  },
  {
   "cell_type": "code",
   "execution_count": 11,
   "id": "8193057e",
   "metadata": {},
   "outputs": [],
   "source": [
    "# print(X)"
   ]
  },
  {
   "cell_type": "code",
   "execution_count": 12,
   "id": "c9f5e457",
   "metadata": {},
   "outputs": [],
   "source": [
    "import tensorflow as tf\n",
    "from tensorflow.keras.models import Sequential\n",
    "from tensorflow.keras.layers import Dense, Embedding, Lambda "
   ]
  },
  {
   "cell_type": "code",
   "execution_count": 13,
   "id": "e2f06d13",
   "metadata": {},
   "outputs": [],
   "source": [
    "model = Sequential([\n",
    "    Embedding(input_dim=vocab_size, output_dim=emb_size, input_length=2*context_size),\n",
    "    Lambda(lambda x: tf.reduce_mean(x, axis=1)),\n",
    "    Dense(256, activation='relu'),\n",
    "    Dense(512, activation='relu'),\n",
    "    Dense(vocab_size, activation='softmax')\n",
    "])\n"
   ]
  },
  {
   "cell_type": "code",
   "execution_count": 14,
   "id": "534adbc7",
   "metadata": {},
   "outputs": [],
   "source": [
    "model.compile(loss='sparse_categorical_crossentropy', optimizer='adam', metrics=['accuracy'])"
   ]
  },
  {
   "cell_type": "code",
   "execution_count": 15,
   "id": "26df79c4",
   "metadata": {},
   "outputs": [
    {
     "name": "stdout",
     "output_type": "stream",
     "text": [
      "Epoch 1/80\n",
      "3/3 [==============================] - 1s 13ms/step - loss: 4.3183 - accuracy: 0.0114\n",
      "Epoch 2/80\n",
      "3/3 [==============================] - 0s 5ms/step - loss: 4.3111 - accuracy: 0.0568\n",
      "Epoch 3/80\n",
      "3/3 [==============================] - 0s 5ms/step - loss: 4.3047 - accuracy: 0.0568\n",
      "Epoch 4/80\n",
      "3/3 [==============================] - 0s 8ms/step - loss: 4.2946 - accuracy: 0.0568\n",
      "Epoch 5/80\n",
      "3/3 [==============================] - 0s 9ms/step - loss: 4.2827 - accuracy: 0.0568\n",
      "Epoch 6/80\n",
      "3/3 [==============================] - 0s 4ms/step - loss: 4.2667 - accuracy: 0.0568\n",
      "Epoch 7/80\n",
      "3/3 [==============================] - 0s 8ms/step - loss: 4.2436 - accuracy: 0.0568\n",
      "Epoch 8/80\n",
      "3/3 [==============================] - 0s 3ms/step - loss: 4.2143 - accuracy: 0.0568\n",
      "Epoch 9/80\n",
      "3/3 [==============================] - 0s 8ms/step - loss: 4.1796 - accuracy: 0.0568\n",
      "Epoch 10/80\n",
      "3/3 [==============================] - 0s 5ms/step - loss: 4.1383 - accuracy: 0.0568\n",
      "Epoch 11/80\n",
      "3/3 [==============================] - 0s 4ms/step - loss: 4.0845 - accuracy: 0.0568\n",
      "Epoch 12/80\n",
      "3/3 [==============================] - 0s 3ms/step - loss: 4.0353 - accuracy: 0.0568\n",
      "Epoch 13/80\n",
      "3/3 [==============================] - 0s 4ms/step - loss: 4.0000 - accuracy: 0.0568\n",
      "Epoch 14/80\n",
      "3/3 [==============================] - 0s 5ms/step - loss: 3.9607 - accuracy: 0.0568\n",
      "Epoch 15/80\n",
      "3/3 [==============================] - 0s 5ms/step - loss: 3.9204 - accuracy: 0.0568\n",
      "Epoch 16/80\n",
      "3/3 [==============================] - 0s 4ms/step - loss: 3.8746 - accuracy: 0.0568\n",
      "Epoch 17/80\n",
      "3/3 [==============================] - 0s 9ms/step - loss: 3.8183 - accuracy: 0.0682\n",
      "Epoch 18/80\n",
      "3/3 [==============================] - 0s 5ms/step - loss: 3.7590 - accuracy: 0.0795\n",
      "Epoch 19/80\n",
      "3/3 [==============================] - 0s 8ms/step - loss: 3.6957 - accuracy: 0.0909\n",
      "Epoch 20/80\n",
      "3/3 [==============================] - 0s 8ms/step - loss: 3.6218 - accuracy: 0.1250\n",
      "Epoch 21/80\n",
      "3/3 [==============================] - 0s 4ms/step - loss: 3.5433 - accuracy: 0.1364\n",
      "Epoch 22/80\n",
      "3/3 [==============================] - 0s 5ms/step - loss: 3.4569 - accuracy: 0.1364\n",
      "Epoch 23/80\n",
      "3/3 [==============================] - 0s 10ms/step - loss: 3.3656 - accuracy: 0.1591\n",
      "Epoch 24/80\n",
      "3/3 [==============================] - 0s 7ms/step - loss: 3.2640 - accuracy: 0.1932\n",
      "Epoch 25/80\n",
      "3/3 [==============================] - 0s 8ms/step - loss: 3.1518 - accuracy: 0.2273\n",
      "Epoch 26/80\n",
      "3/3 [==============================] - 0s 12ms/step - loss: 3.0324 - accuracy: 0.2500\n",
      "Epoch 27/80\n",
      "3/3 [==============================] - 0s 10ms/step - loss: 2.9138 - accuracy: 0.2727\n",
      "Epoch 28/80\n",
      "3/3 [==============================] - 0s 12ms/step - loss: 2.7865 - accuracy: 0.3068\n",
      "Epoch 29/80\n",
      "3/3 [==============================] - 0s 13ms/step - loss: 2.6569 - accuracy: 0.3295\n",
      "Epoch 30/80\n",
      "3/3 [==============================] - 0s 13ms/step - loss: 2.5279 - accuracy: 0.3295\n",
      "Epoch 31/80\n",
      "3/3 [==============================] - 0s 12ms/step - loss: 2.4028 - accuracy: 0.3750\n",
      "Epoch 32/80\n",
      "3/3 [==============================] - 0s 12ms/step - loss: 2.2736 - accuracy: 0.3977\n",
      "Epoch 33/80\n",
      "3/3 [==============================] - 0s 12ms/step - loss: 2.1523 - accuracy: 0.4205\n",
      "Epoch 34/80\n",
      "3/3 [==============================] - 0s 12ms/step - loss: 2.0306 - accuracy: 0.4432\n",
      "Epoch 35/80\n",
      "3/3 [==============================] - 0s 11ms/step - loss: 1.9153 - accuracy: 0.5114\n",
      "Epoch 36/80\n",
      "3/3 [==============================] - 0s 8ms/step - loss: 1.8050 - accuracy: 0.5455\n",
      "Epoch 37/80\n",
      "3/3 [==============================] - 0s 8ms/step - loss: 1.7000 - accuracy: 0.6250\n",
      "Epoch 38/80\n",
      "3/3 [==============================] - 0s 12ms/step - loss: 1.5954 - accuracy: 0.6705\n",
      "Epoch 39/80\n",
      "3/3 [==============================] - 0s 12ms/step - loss: 1.5047 - accuracy: 0.7045\n",
      "Epoch 40/80\n",
      "3/3 [==============================] - 0s 11ms/step - loss: 1.4139 - accuracy: 0.7159\n",
      "Epoch 41/80\n",
      "3/3 [==============================] - 0s 10ms/step - loss: 1.3325 - accuracy: 0.7614\n",
      "Epoch 42/80\n",
      "3/3 [==============================] - 0s 12ms/step - loss: 1.2464 - accuracy: 0.7727\n",
      "Epoch 43/80\n",
      "3/3 [==============================] - 0s 10ms/step - loss: 1.1659 - accuracy: 0.8068\n",
      "Epoch 44/80\n",
      "3/3 [==============================] - 0s 10ms/step - loss: 1.0951 - accuracy: 0.8295\n",
      "Epoch 45/80\n",
      "3/3 [==============================] - 0s 10ms/step - loss: 1.0331 - accuracy: 0.8409\n",
      "Epoch 46/80\n",
      "3/3 [==============================] - 0s 8ms/step - loss: 0.9631 - accuracy: 0.8409\n",
      "Epoch 47/80\n",
      "3/3 [==============================] - 0s 10ms/step - loss: 0.8970 - accuracy: 0.8977\n",
      "Epoch 48/80\n",
      "3/3 [==============================] - 0s 13ms/step - loss: 0.8407 - accuracy: 0.9091\n",
      "Epoch 49/80\n",
      "3/3 [==============================] - 0s 9ms/step - loss: 0.7903 - accuracy: 0.9318\n",
      "Epoch 50/80\n",
      "3/3 [==============================] - 0s 12ms/step - loss: 0.7351 - accuracy: 0.9318\n",
      "Epoch 51/80\n",
      "3/3 [==============================] - 0s 8ms/step - loss: 0.6867 - accuracy: 0.9318\n",
      "Epoch 52/80\n",
      "3/3 [==============================] - 0s 10ms/step - loss: 0.6366 - accuracy: 0.9318\n",
      "Epoch 53/80\n",
      "3/3 [==============================] - 0s 10ms/step - loss: 0.5992 - accuracy: 0.9318\n",
      "Epoch 54/80\n",
      "3/3 [==============================] - 0s 8ms/step - loss: 0.5516 - accuracy: 0.9432\n",
      "Epoch 55/80\n",
      "3/3 [==============================] - 0s 8ms/step - loss: 0.5104 - accuracy: 0.9432\n",
      "Epoch 56/80\n",
      "3/3 [==============================] - 0s 8ms/step - loss: 0.4783 - accuracy: 0.9545\n",
      "Epoch 57/80\n",
      "3/3 [==============================] - 0s 12ms/step - loss: 0.4471 - accuracy: 0.9659\n",
      "Epoch 58/80\n",
      "3/3 [==============================] - 0s 8ms/step - loss: 0.4126 - accuracy: 0.9659\n",
      "Epoch 59/80\n",
      "3/3 [==============================] - 0s 12ms/step - loss: 0.3814 - accuracy: 0.9659\n",
      "Epoch 60/80\n",
      "3/3 [==============================] - 0s 10ms/step - loss: 0.3564 - accuracy: 0.9659\n",
      "Epoch 61/80\n",
      "3/3 [==============================] - 0s 8ms/step - loss: 0.3330 - accuracy: 0.9659\n",
      "Epoch 62/80\n",
      "3/3 [==============================] - 0s 8ms/step - loss: 0.3126 - accuracy: 0.9886\n",
      "Epoch 63/80\n",
      "3/3 [==============================] - 0s 12ms/step - loss: 0.2871 - accuracy: 0.9886\n",
      "Epoch 64/80\n",
      "3/3 [==============================] - 0s 12ms/step - loss: 0.2662 - accuracy: 1.0000\n",
      "Epoch 65/80\n",
      "3/3 [==============================] - 0s 12ms/step - loss: 0.2495 - accuracy: 0.9886\n",
      "Epoch 66/80\n",
      "3/3 [==============================] - 0s 20ms/step - loss: 0.2320 - accuracy: 1.0000\n",
      "Epoch 67/80\n",
      "3/3 [==============================] - 0s 10ms/step - loss: 0.2162 - accuracy: 1.0000\n",
      "Epoch 68/80\n",
      "3/3 [==============================] - 0s 8ms/step - loss: 0.2032 - accuracy: 1.0000\n",
      "Epoch 69/80\n",
      "3/3 [==============================] - 0s 10ms/step - loss: 0.1921 - accuracy: 1.0000\n",
      "Epoch 70/80\n",
      "3/3 [==============================] - 0s 10ms/step - loss: 0.1782 - accuracy: 1.0000\n",
      "Epoch 71/80\n",
      "3/3 [==============================] - 0s 13ms/step - loss: 0.1672 - accuracy: 1.0000\n",
      "Epoch 72/80\n",
      "3/3 [==============================] - 0s 8ms/step - loss: 0.1557 - accuracy: 1.0000\n",
      "Epoch 73/80\n",
      "3/3 [==============================] - 0s 16ms/step - loss: 0.1493 - accuracy: 1.0000\n",
      "Epoch 74/80\n",
      "3/3 [==============================] - 0s 16ms/step - loss: 0.1378 - accuracy: 1.0000\n",
      "Epoch 75/80\n",
      "3/3 [==============================] - 0s 8ms/step - loss: 0.1286 - accuracy: 1.0000\n",
      "Epoch 76/80\n",
      "3/3 [==============================] - 0s 8ms/step - loss: 0.1228 - accuracy: 1.0000\n",
      "Epoch 77/80\n",
      "3/3 [==============================] - 0s 9ms/step - loss: 0.1176 - accuracy: 1.0000\n",
      "Epoch 78/80\n",
      "3/3 [==============================] - 0s 12ms/step - loss: 0.1086 - accuracy: 1.0000\n",
      "Epoch 79/80\n",
      "3/3 [==============================] - 0s 12ms/step - loss: 0.1022 - accuracy: 1.0000\n",
      "Epoch 80/80\n",
      "3/3 [==============================] - 0s 16ms/step - loss: 0.0965 - accuracy: 1.0000\n"
     ]
    }
   ],
   "source": [
    "history = model.fit(X, Y, epochs=80)"
   ]
  },
  {
   "cell_type": "code",
   "execution_count": 16,
   "id": "9e9aa048",
   "metadata": {},
   "outputs": [
    {
     "data": {
      "text/plain": [
       "<Axes: >"
      ]
     },
     "execution_count": 16,
     "metadata": {},
     "output_type": "execute_result"
    },
    {
     "data": {
      "image/png": "[encoded data removed]",
      "text/plain": [
       "<Figure size 640x480 with 1 Axes>"
      ]
     },
     "metadata": {},
     "output_type": "display_data"
    }
   ],
   "source": [
    "import seaborn as sns\n",
    "sns.lineplot(model.history.history)"
   ]
  },
  {
   "cell_type": "code",
   "execution_count": 17,
   "id": "57a59bce",
   "metadata": {},
   "outputs": [],
   "source": [
    "from sklearn.decomposition import PCA\n",
    "\n",
    "embeddings = model.get_weights()[0]\n",
    "\n",
    "pca = PCA(n_components=2)\n",
    "reduced_embeddings = pca.fit_transform(embeddings)"
   ]
  },
  {
   "cell_type": "code",
   "execution_count": 19,
   "id": "d3b4a655",
   "metadata": {},
   "outputs": [
    {
     "name": "stdout",
     "output_type": "stream",
     "text": [
      "'Deep learning (also known as deep structured learning) is part of a broader family of machine learning methods based on artificial neural networks with representation learning. Learning can be supervised, semi-supervised or unsupervised. Deep-learning architectures such as deep neural networks, deep belief networks, deep reinforcement learning, recurrent neural networks, convolutional neural networks and Transformers have been applied to fields including computer vision, speech recognition, natural language processing, machine translation, bioinformatics, drug design, medical image analysis, climate science, material inspection and board game programs, where they have produced results comparable to and in some cases surpassing human expert performance.\n"
     ]
    }
   ],
   "source": [
    "print(\"'Deep learning (also known as deep structured learning) is part of a broader family of machine learning methods based on artificial neural networks with representation learning. Learning can be supervised, semi-supervised or unsupervised. Deep-learning architectures such as deep neural networks, deep belief networks, deep reinforcement learning, recurrent neural networks, convolutional neural networks and Transformers have been applied to fields including computer vision, speech recognition, natural language processing, machine translation, bioinformatics, drug design, medical image analysis, climate science, material inspection and board game programs, where they have produced results comparable to and in some cases surpassing human expert performance.\")"
   ]
  },
  {
   "cell_type": "code",
   "execution_count": 18,
   "id": "12afb398",
   "metadata": {},
   "outputs": [],
   "source": [
    "# test model: select some sentences from above paragraph\n",
    "test_sentenses = [\n",
    "    \"known as structured learning\",\n",
    "    \"transformers have applied to\",\n",
    "    \"where they produced results\",\n",
    "    \"cases surpassing expert performance\"\n",
    "]"
   ]
  },
  {
   "cell_type": "code",
   "execution_count": 25,
   "id": "158737b5",
   "metadata": {},
   "outputs": [
    {
     "name": "stdout",
     "output_type": "stream",
     "text": [
      "1/1 [==============================] - 0s 66ms/step\n",
      "pred  ['known', 'as', 'structured', 'learning'] \n",
      "= deep \n",
      "\n",
      "\n",
      "1/1 [==============================] - 0s 53ms/step\n",
      "pred  ['transformers', 'have', 'applied', 'to'] \n",
      "= been \n",
      "\n",
      "\n",
      "1/1 [==============================] - 0s 52ms/step\n",
      "pred  ['where', 'they', 'produced', 'results'] \n",
      "= have \n",
      "\n",
      "\n",
      "1/1 [==============================] - 0s 55ms/step\n",
      "pred  ['cases', 'surpassing', 'expert', 'performance'] \n",
      "= human \n",
      "\n",
      "\n"
     ]
    }
   ],
   "source": [
    "for sent in test_sentenses:\n",
    "    test_words = sent.split(\" \")\n",
    "#     print(test_words)\n",
    "    x_test =[]\n",
    "    for i in test_words:\n",
    "        x_test.append(word_to_index.get(i))\n",
    "    x_test = np.array([x_test])\n",
    "#     print(x_test)\n",
    "    \n",
    "    pred = model.predict(x_test)\n",
    "    pred = np.argmax(pred[0])\n",
    "    print(\"pred \", test_words, \"\\n=\", index_to_word.get(pred),\"\\n\\n\")"
   ]
  },
  {
   "cell_type": "code",
   "execution_count": null,
   "id": "bb5c7ab8",
   "metadata": {},
   "outputs": [],
   "source": []
  }
 ],
 "metadata": {
  "kernelspec": {
   "display_name": "lab_env",
   "language": "python",
   "name": "lab_env"
  },
  "language_info": {
   "codemirror_mode": {
    "name": "ipython",
    "version": 3
   },
   "file_extension": ".py",
   "mimetype": "text/x-python",
   "name": "python",
   "nbconvert_exporter": "python",
   "pygments_lexer": "ipython3",
   "version": "3.10.8"
  }
 },
 "nbformat": 4,
 "nbformat_minor": 5
}
